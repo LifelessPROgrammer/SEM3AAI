{
  "nbformat": 4,
  "nbformat_minor": 0,
  "metadata": {
    "colab": {
      "provenance": [],
      "authorship_tag": "ABX9TyNKTFQ6HnLvm8Yt6xG+H1+u",
      "include_colab_link": true
    },
    "kernelspec": {
      "name": "python3",
      "display_name": "Python 3"
    },
    "language_info": {
      "name": "python"
    }
  },
  "cells": [
    {
      "cell_type": "markdown",
      "metadata": {
        "id": "view-in-github",
        "colab_type": "text"
      },
      "source": [
        "<a href=\"https://colab.research.google.com/github/LifelessPROgrammer/SEM3AAI/blob/main/Design_an_Expert_system_using_AIML.ipynb\" target=\"_parent\"><img src=\"https://colab.research.google.com/assets/colab-badge.svg\" alt=\"Open In Colab\"/></a>"
      ]
    },
    {
      "cell_type": "code",
      "source": [
        "pip install aiml"
      ],
      "metadata": {
        "id": "sUNsX96ZWUkY"
      },
      "execution_count": null,
      "outputs": []
    },
    {
      "cell_type": "code",
      "source": [
        "pip install python-aiml"
      ],
      "metadata": {
        "id": "aJlZriYCWgJH"
      },
      "execution_count": null,
      "outputs": []
    },
    {
      "cell_type": "code",
      "source": [
        "pip install requests"
      ],
      "metadata": {
        "id": "snjj6gmeWjHZ"
      },
      "execution_count": null,
      "outputs": []
    },
    {
      "cell_type": "code",
      "source": [
        "pip install beautifulsoup4"
      ],
      "metadata": {
        "id": "0CUDKDdPWqFP"
      },
      "execution_count": null,
      "outputs": []
    },
    {
      "cell_type": "code",
      "source": [
        "pip install lxml"
      ],
      "metadata": {
        "id": "xN4wQMD_Ws2f"
      },
      "execution_count": null,
      "outputs": []
    },
    {
      "cell_type": "code",
      "source": [
        "pip install pyts"
      ],
      "metadata": {
        "id": "XsAQzem5Wwgn"
      },
      "execution_count": null,
      "outputs": []
    },
    {
      "cell_type": "markdown",
      "source": [
        "p1"
      ],
      "metadata": {
        "id": "Z18-lDwPde6-"
      }
    },
    {
      "cell_type": "code",
      "execution_count": null,
      "metadata": {
        "id": "_75TIqGXVcK7"
      },
      "outputs": [],
      "source": [
        "import aiml\n",
        "\n",
        "# Create a kernel\n",
        "kernel = aiml.Kernel()\n",
        "\n",
        "# Load AIML files\n",
        "kernel.learn(\"std-startup.xml\")\n",
        "kernel.learn(\"basic_chat.aiml\")  # Load your AIML files here\n",
        "\n",
        "# Enter the conversation loop\n",
        "while True:\n",
        "    input_text = input(\">Human: \")\n",
        "    response = kernel.respond(input_text)\n",
        "    print(\">Bot: \" + response)"
      ]
    },
    {
      "cell_type": "markdown",
      "source": [
        "p2"
      ],
      "metadata": {
        "id": "Ci6LMkNKdgXU"
      }
    },
    {
      "cell_type": "code",
      "source": [
        "import aiml\n",
        "\n",
        "# Create the kernel\n",
        "kernel = aiml.Kernel()\n",
        "\n",
        "# Load AIML files\n",
        "kernel.learn(\"simple_bot.aiml\")\n",
        "while True:\n",
        "    user_input = input(\"You: \").upper()  # Convert input to uppercase\n",
        "    bot_response = kernel.respond(user_input)\n",
        "    print(\"Bot:\", bot_response)"
      ],
      "metadata": {
        "id": "gOJCIOcTdFqW"
      },
      "execution_count": null,
      "outputs": []
    }
  ]
}