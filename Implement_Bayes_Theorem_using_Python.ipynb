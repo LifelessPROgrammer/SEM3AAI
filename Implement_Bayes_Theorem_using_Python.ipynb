{
  "nbformat": 4,
  "nbformat_minor": 0,
  "metadata": {
    "colab": {
      "provenance": [],
      "authorship_tag": "ABX9TyOWCwdwNWQ1ent5EKtqCH1m",
      "include_colab_link": true
    },
    "kernelspec": {
      "name": "python3",
      "display_name": "Python 3"
    },
    "language_info": {
      "name": "python"
    }
  },
  "cells": [
    {
      "cell_type": "markdown",
      "metadata": {
        "id": "view-in-github",
        "colab_type": "text"
      },
      "source": [
        "<a href=\"https://colab.research.google.com/github/LifelessPROgrammer/SEM3AAI/blob/main/Implement_Bayes_Theorem_using_Python.ipynb\" target=\"_parent\"><img src=\"https://colab.research.google.com/assets/colab-badge.svg\" alt=\"Open In Colab\"/></a>"
      ]
    },
    {
      "cell_type": "code",
      "execution_count": 4,
      "metadata": {
        "colab": {
          "base_uri": "https://localhost:8080/"
        },
        "id": "-b9xHhDqXxY6",
        "outputId": "431d3331-7c43-4550-9e65-023399238a9c"
      },
      "outputs": [
        {
          "output_type": "stream",
          "name": "stdout",
          "text": [
            "Aditya Hadap\n",
            "The test-taker may not be an user\n",
            "Probablity of the test-taker being a drug user is: 0.076\n"
          ]
        }
      ],
      "source": [
        "def drug_user(\n",
        "        prob_th=0.8,\n",
        "        sensitivity=0.79,\n",
        "        specificity=0.79,\n",
        "        prevelance=0.02,\n",
        "        verbose=True):\n",
        "\n",
        "\n",
        "    p_user = prevelance\n",
        "    p_non_user = 1-prevelance\n",
        "    p_pops_user = sensitivity\n",
        "    p_neg_user = specificity\n",
        "    p_pops_non_user = 1-specificity\n",
        "\n",
        "    num = p_pops_user*p_user\n",
        "    den = p_pops_user*p_user+p_pops_non_user*p_non_user\n",
        "    prob = num/den\n",
        "\n",
        "    if verbose:\n",
        "        if prob > prob_th:\n",
        "            print(\"The test-taker could be an user\")\n",
        "        else:\n",
        "            print(\"The test-taker may not be an user\")\n",
        "\n",
        "    return prob\n",
        "\n",
        "print(\"Aditya Hadap\")\n",
        "p=drug_user(prob_th=0.2, sensitivity=0.96, specificity=0.93, prevelance=0.006)\n",
        "print(\"Probablity of the test-taker being a drug user is:\", round(p,3))"
      ]
    }
  ]
}